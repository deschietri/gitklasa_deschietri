{
 "cells": [
  {
   "cell_type": "markdown",
   "metadata": {},
   "source": [
    "<center><h1>Module 2 Assignment</h1></center>"
   ]
  },
  {
   "cell_type": "markdown",
   "metadata": {},
   "source": [
    "# Choose a dataset\n",
    "\n",
    "Choose a dataset from [NYC Open Data](https://opendata.cityofnewyork.us/) that is available in CSV format (look at the format labels in the list of datasets). Choose one that has at least 2 numerical value columns and 1 string value column. \n",
    "\n",
    "If it's a CSV file you may be able to directly read it with pandas\n",
    "```\n",
    "pd.read_csv(url)\n",
    "```\n",
    "\n",
    "If it is a compressed file (.zip, .gz, etc.), download the zip and unpack it, then read it in with pandas\n",
    "```\n",
    "pd.read_csv(<filename>.csv)\n",
    "```"
   ]
  },
  {
   "cell_type": "markdown",
   "metadata": {},
   "source": [
    "## Tobacco Retail Dealer and Electronic Cigarette Retail Dealer Caps by Community District\n",
    "## Description\n",
    "This dataset shows the maximum number (cap) of Tobacco Retail Dealer and Electronic Cigarette Retail Dealer licenses allowed in each Community District, as well as the current number of active Tobacco Retail Dealer and Electronic Cigarette Retail Dealer licenses.\n",
    "\n",
    "The City set caps (limits) on the number of Tobacco Retail Dealer and Electronic Cigarette Retail Dealer licenses in each Community District established under Chapter 69 of the New York City Charter. The caps are 50 percent of the number of active Tobacco Retail Dealer licenses on February 24, 2018 and 50 percent of the number of licenses issued for Electronic Cigarette Retail Dealer as of August 23, 2018. The cap for Tobacco Retail Dealers excludes pharmacies whose licenses permanently expire before January 1, 2019 when pharmacies and businesses that contain pharmacies can no longer sell cigarettes or other tobacco products in New York City.\n",
    "The number of active licenses are grouped by borough and community district number. Each row of data represents one Community District's license cap and the number of active licenses at the time of the dataset's publication.\n",
    "Businesses interested in applying for these licenses may use this dataset to determine if licenses are available in their Community District. Even if licenses are not available, businesses may be able to apply if they meet limited exceptions to the cap. Visit nyc.gov/dca for license requirements."
   ]
  },
  {
   "cell_type": "markdown",
   "metadata": {},
   "source": [
    "## Data Dictionary\n",
    "**- Borough** = Borough where the business is located.\n",
    "\n",
    "**- Community Board** = Community District number where the business is located.\n",
    "\n",
    "**- COMMUNITY DISTRICT NAME** = Descriptive name of the Community District.\n",
    "\n",
    "**- Tobacco Retail Dealer Cap** = Maximum number of Tobacco Retail Dealer licenses allowed in the Community District.\n",
    "\n",
    "**- Active Tobacco Retail Dealer Licenses** = Number of active Tobacco Retail Dealer licenses in the Community District as of the last run date of the report, minus all Tobacco Retail Dealer licenses held by pharmacies.\n",
    "\n",
    "**- TRD Available Under Cap** = Number of new TRD licenses that can be issued in the Community District\n",
    "\n",
    "**- Electronic Cigarette Retail Dealer Cap** = Maximum number of Electronic Cigarette Retail Dealer licenses assigned to the Community District.\n",
    "\n",
    "**- Active Electronic Cigarette Retail Dealer Licenses** = Number of active Electronic Cigarette Retail Dealer licenses in the Community District as of the last run date of the report.\n",
    "\n",
    "**- ECD Available Under Cap** = Number of new ECD licenses that can be issued in the Community District"
   ]
  },
  {
   "cell_type": "code",
   "execution_count": 1,
   "metadata": {},
   "outputs": [],
   "source": [
    "#import packages\n",
    "import pandas as pd\n",
    "import matplotlib.pyplot as plt\n",
    "import seaborn as sns\n",
    "import warnings\n",
    "warnings.simplefilter(action='ignore', category=FutureWarning)"
   ]
  },
  {
   "cell_type": "markdown",
   "metadata": {},
   "source": [
    "## Display top 7 rows of the dataframe in your notebook"
   ]
  },
  {
   "cell_type": "code",
   "execution_count": 2,
   "metadata": {},
   "outputs": [
    {
     "data": {
      "text/html": [
       "<div>\n",
       "<style scoped>\n",
       "    .dataframe tbody tr th:only-of-type {\n",
       "        vertical-align: middle;\n",
       "    }\n",
       "\n",
       "    .dataframe tbody tr th {\n",
       "        vertical-align: top;\n",
       "    }\n",
       "\n",
       "    .dataframe thead th {\n",
       "        text-align: right;\n",
       "    }\n",
       "</style>\n",
       "<table border=\"1\" class=\"dataframe\">\n",
       "  <thead>\n",
       "    <tr style=\"text-align: right;\">\n",
       "      <th></th>\n",
       "      <th>Borough</th>\n",
       "      <th>Community Board</th>\n",
       "      <th>COMMUNITY DISTRICT NAME</th>\n",
       "      <th>Tobacco Retail Dealer Cap</th>\n",
       "      <th>Active Tobacco Retail Dealer Licenses</th>\n",
       "      <th>TRD Available Under Cap</th>\n",
       "      <th>Electronic Cigarette Retail Dealer Cap</th>\n",
       "      <th>Active Electronic Cigarette Retail Dealer Licenses</th>\n",
       "      <th>ECD Available Under Cap</th>\n",
       "    </tr>\n",
       "  </thead>\n",
       "  <tbody>\n",
       "    <tr>\n",
       "      <th>0</th>\n",
       "      <td>Bronx</td>\n",
       "      <td>201</td>\n",
       "      <td>Bronx 1</td>\n",
       "      <td>63</td>\n",
       "      <td>105</td>\n",
       "      <td>0</td>\n",
       "      <td>13</td>\n",
       "      <td>26</td>\n",
       "      <td>0</td>\n",
       "    </tr>\n",
       "    <tr>\n",
       "      <th>1</th>\n",
       "      <td>Bronx</td>\n",
       "      <td>202</td>\n",
       "      <td>Bronx 2</td>\n",
       "      <td>36</td>\n",
       "      <td>68</td>\n",
       "      <td>0</td>\n",
       "      <td>5</td>\n",
       "      <td>10</td>\n",
       "      <td>0</td>\n",
       "    </tr>\n",
       "    <tr>\n",
       "      <th>2</th>\n",
       "      <td>Bronx</td>\n",
       "      <td>203</td>\n",
       "      <td>Bronx 3</td>\n",
       "      <td>45</td>\n",
       "      <td>81</td>\n",
       "      <td>0</td>\n",
       "      <td>8</td>\n",
       "      <td>16</td>\n",
       "      <td>0</td>\n",
       "    </tr>\n",
       "    <tr>\n",
       "      <th>3</th>\n",
       "      <td>Bronx</td>\n",
       "      <td>204</td>\n",
       "      <td>Bronx 4</td>\n",
       "      <td>88</td>\n",
       "      <td>150</td>\n",
       "      <td>0</td>\n",
       "      <td>9</td>\n",
       "      <td>18</td>\n",
       "      <td>0</td>\n",
       "    </tr>\n",
       "    <tr>\n",
       "      <th>4</th>\n",
       "      <td>Bronx</td>\n",
       "      <td>205</td>\n",
       "      <td>Bronx 5</td>\n",
       "      <td>68</td>\n",
       "      <td>124</td>\n",
       "      <td>0</td>\n",
       "      <td>14</td>\n",
       "      <td>28</td>\n",
       "      <td>0</td>\n",
       "    </tr>\n",
       "    <tr>\n",
       "      <th>5</th>\n",
       "      <td>Bronx</td>\n",
       "      <td>206</td>\n",
       "      <td>Bronx 6</td>\n",
       "      <td>58</td>\n",
       "      <td>100</td>\n",
       "      <td>0</td>\n",
       "      <td>7</td>\n",
       "      <td>14</td>\n",
       "      <td>0</td>\n",
       "    </tr>\n",
       "    <tr>\n",
       "      <th>6</th>\n",
       "      <td>Bronx</td>\n",
       "      <td>207</td>\n",
       "      <td>Bronx 7</td>\n",
       "      <td>63</td>\n",
       "      <td>122</td>\n",
       "      <td>0</td>\n",
       "      <td>18</td>\n",
       "      <td>36</td>\n",
       "      <td>0</td>\n",
       "    </tr>\n",
       "  </tbody>\n",
       "</table>\n",
       "</div>"
      ],
      "text/plain": [
       "  Borough  Community Board COMMUNITY DISTRICT NAME  Tobacco Retail Dealer Cap  \\\n",
       "0   Bronx              201                 Bronx 1                         63   \n",
       "1   Bronx              202                 Bronx 2                         36   \n",
       "2   Bronx              203                 Bronx 3                         45   \n",
       "3   Bronx              204                 Bronx 4                         88   \n",
       "4   Bronx              205                 Bronx 5                         68   \n",
       "5   Bronx              206                 Bronx 6                         58   \n",
       "6   Bronx              207                 Bronx 7                         63   \n",
       "\n",
       "   Active Tobacco Retail Dealer Licenses  TRD Available Under Cap  \\\n",
       "0                                    105                        0   \n",
       "1                                     68                        0   \n",
       "2                                     81                        0   \n",
       "3                                    150                        0   \n",
       "4                                    124                        0   \n",
       "5                                    100                        0   \n",
       "6                                    122                        0   \n",
       "\n",
       "   Electronic Cigarette Retail Dealer Cap  \\\n",
       "0                                      13   \n",
       "1                                       5   \n",
       "2                                       8   \n",
       "3                                       9   \n",
       "4                                      14   \n",
       "5                                       7   \n",
       "6                                      18   \n",
       "\n",
       "   Active Electronic Cigarette Retail Dealer Licenses  ECD Available Under Cap  \n",
       "0                                                 26                         0  \n",
       "1                                                 10                         0  \n",
       "2                                                 16                         0  \n",
       "3                                                 18                         0  \n",
       "4                                                 28                         0  \n",
       "5                                                 14                         0  \n",
       "6                                                 36                         0  "
      ]
     },
     "execution_count": 2,
     "metadata": {},
     "output_type": "execute_result"
    }
   ],
   "source": [
    "#load data\n",
    "df = pd.read_csv('https://data.cityofnewyork.us/api/views/ymyu-3dbp/rows.csv?accessType=DOWNLOAD')\n",
    "df.head(7)"
   ]
  },
  {
   "cell_type": "markdown",
   "metadata": {},
   "source": [
    "## Count number of null values (if any) for each column"
   ]
  },
  {
   "cell_type": "code",
   "execution_count": 3,
   "metadata": {},
   "outputs": [
    {
     "data": {
      "text/plain": [
       "Borough                                               0\n",
       "Community Board                                       0\n",
       "COMMUNITY DISTRICT NAME                               0\n",
       "Tobacco Retail Dealer Cap                             0\n",
       "Active Tobacco Retail Dealer Licenses                 0\n",
       "TRD Available Under Cap                               0\n",
       "Electronic Cigarette Retail Dealer Cap                0\n",
       "Active Electronic Cigarette Retail Dealer Licenses    0\n",
       "ECD Available Under Cap                               0\n",
       "dtype: int64"
      ]
     },
     "execution_count": 3,
     "metadata": {},
     "output_type": "execute_result"
    }
   ],
   "source": [
    "df.isnull().sum()"
   ]
  },
  {
   "cell_type": "markdown",
   "metadata": {},
   "source": [
    "## Remove all but 2 numerical values columns of your choice and display the reducted dataframe."
   ]
  },
  {
   "cell_type": "code",
   "execution_count": 4,
   "metadata": {},
   "outputs": [
    {
     "data": {
      "text/html": [
       "<div>\n",
       "<style scoped>\n",
       "    .dataframe tbody tr th:only-of-type {\n",
       "        vertical-align: middle;\n",
       "    }\n",
       "\n",
       "    .dataframe tbody tr th {\n",
       "        vertical-align: top;\n",
       "    }\n",
       "\n",
       "    .dataframe thead th {\n",
       "        text-align: right;\n",
       "    }\n",
       "</style>\n",
       "<table border=\"1\" class=\"dataframe\">\n",
       "  <thead>\n",
       "    <tr style=\"text-align: right;\">\n",
       "      <th></th>\n",
       "      <th>Tobacco Retail Dealer Cap</th>\n",
       "      <th>Active Tobacco Retail Dealer Licenses</th>\n",
       "    </tr>\n",
       "  </thead>\n",
       "  <tbody>\n",
       "    <tr>\n",
       "      <th>0</th>\n",
       "      <td>63</td>\n",
       "      <td>105</td>\n",
       "    </tr>\n",
       "    <tr>\n",
       "      <th>1</th>\n",
       "      <td>36</td>\n",
       "      <td>68</td>\n",
       "    </tr>\n",
       "    <tr>\n",
       "      <th>2</th>\n",
       "      <td>45</td>\n",
       "      <td>81</td>\n",
       "    </tr>\n",
       "    <tr>\n",
       "      <th>3</th>\n",
       "      <td>88</td>\n",
       "      <td>150</td>\n",
       "    </tr>\n",
       "    <tr>\n",
       "      <th>4</th>\n",
       "      <td>68</td>\n",
       "      <td>124</td>\n",
       "    </tr>\n",
       "  </tbody>\n",
       "</table>\n",
       "</div>"
      ],
      "text/plain": [
       "   Tobacco Retail Dealer Cap  Active Tobacco Retail Dealer Licenses\n",
       "0                         63                                    105\n",
       "1                         36                                     68\n",
       "2                         45                                     81\n",
       "3                         88                                    150\n",
       "4                         68                                    124"
      ]
     },
     "execution_count": 4,
     "metadata": {},
     "output_type": "execute_result"
    }
   ],
   "source": [
    "reducted_df = df[['Tobacco Retail Dealer Cap', 'Active Tobacco Retail Dealer Licenses']]\n",
    "reducted_df.head()"
   ]
  },
  {
   "cell_type": "markdown",
   "metadata": {},
   "source": [
    "## Display the average, median, and standard deviation of each of your numerical columns"
   ]
  },
  {
   "cell_type": "code",
   "execution_count": 5,
   "metadata": {},
   "outputs": [
    {
     "data": {
      "text/html": [
       "<div>\n",
       "<style scoped>\n",
       "    .dataframe tbody tr th:only-of-type {\n",
       "        vertical-align: middle;\n",
       "    }\n",
       "\n",
       "    .dataframe tbody tr th {\n",
       "        vertical-align: top;\n",
       "    }\n",
       "\n",
       "    .dataframe thead th {\n",
       "        text-align: right;\n",
       "    }\n",
       "</style>\n",
       "<table border=\"1\" class=\"dataframe\">\n",
       "  <thead>\n",
       "    <tr style=\"text-align: right;\">\n",
       "      <th></th>\n",
       "      <th>Tobacco Retail Dealer Cap</th>\n",
       "      <th>Active Tobacco Retail Dealer Licenses</th>\n",
       "    </tr>\n",
       "  </thead>\n",
       "  <tbody>\n",
       "    <tr>\n",
       "      <th>count</th>\n",
       "      <td>59.000000</td>\n",
       "      <td>59.000000</td>\n",
       "    </tr>\n",
       "    <tr>\n",
       "      <th>mean</th>\n",
       "      <td>65.745763</td>\n",
       "      <td>116.694915</td>\n",
       "    </tr>\n",
       "    <tr>\n",
       "      <th>std</th>\n",
       "      <td>24.261217</td>\n",
       "      <td>42.035393</td>\n",
       "    </tr>\n",
       "    <tr>\n",
       "      <th>min</th>\n",
       "      <td>28.000000</td>\n",
       "      <td>52.000000</td>\n",
       "    </tr>\n",
       "    <tr>\n",
       "      <th>25%</th>\n",
       "      <td>48.500000</td>\n",
       "      <td>88.500000</td>\n",
       "    </tr>\n",
       "    <tr>\n",
       "      <th>50%</th>\n",
       "      <td>62.000000</td>\n",
       "      <td>109.000000</td>\n",
       "    </tr>\n",
       "    <tr>\n",
       "      <th>75%</th>\n",
       "      <td>76.000000</td>\n",
       "      <td>140.500000</td>\n",
       "    </tr>\n",
       "    <tr>\n",
       "      <th>max</th>\n",
       "      <td>155.000000</td>\n",
       "      <td>285.000000</td>\n",
       "    </tr>\n",
       "  </tbody>\n",
       "</table>\n",
       "</div>"
      ],
      "text/plain": [
       "       Tobacco Retail Dealer Cap  Active Tobacco Retail Dealer Licenses\n",
       "count                  59.000000                              59.000000\n",
       "mean                   65.745763                             116.694915\n",
       "std                    24.261217                              42.035393\n",
       "min                    28.000000                              52.000000\n",
       "25%                    48.500000                              88.500000\n",
       "50%                    62.000000                             109.000000\n",
       "75%                    76.000000                             140.500000\n",
       "max                   155.000000                             285.000000"
      ]
     },
     "execution_count": 5,
     "metadata": {},
     "output_type": "execute_result"
    }
   ],
   "source": [
    "reducted_df.describe()"
   ]
  },
  {
   "cell_type": "markdown",
   "metadata": {},
   "source": [
    "## Plot two of the numerical columns one against the other in a scatter plot"
   ]
  },
  {
   "cell_type": "code",
   "execution_count": 6,
   "metadata": {},
   "outputs": [
    {
     "data": {
      "text/plain": [
       "<Figure size 432x288 with 0 Axes>"
      ]
     },
     "metadata": {},
     "output_type": "display_data"
    },
    {
     "data": {
      "image/png": "[encoded data removed]",
      "text/plain": [
       "<Figure size 432x288 with 1 Axes>"
      ]
     },
     "metadata": {
      "needs_background": "light"
     },
     "output_type": "display_data"
    }
   ],
   "source": [
    "plt.figure()\n",
    "reducted_df.plot.scatter(x='Tobacco Retail Dealer Cap', y='Active Tobacco Retail Dealer Licenses')\n",
    "plt.title('Scatter Plot', size=14)\n",
    "plt.tight_layout()\n",
    "plt.show()"
   ]
  },
  {
   "cell_type": "markdown",
   "metadata": {},
   "source": [
    "## Plot the data distribution of all your numerical columns in histogram and boxplot"
   ]
  },
  {
   "cell_type": "code",
   "execution_count": 7,
   "metadata": {},
   "outputs": [
    {
     "data": {
      "image/png": "[encoded data removed]",
      "text/plain": [
       "<Figure size 1080x720 with 4 Axes>"
      ]
     },
     "metadata": {
      "needs_background": "light"
     },
     "output_type": "display_data"
    }
   ],
   "source": [
    "plt.figure(figsize=(15,10))\n",
    "plt.subplot(2,2,1)\n",
    "sns.distplot(reducted_df['Tobacco Retail Dealer Cap'], hist=True, kde=True, color='darkblue',\n",
    "             hist_kws={'edgecolor': 'black'}, kde_kws={'linewidth': 2})\n",
    "plt.title('Tobacco Retail Dealer Cap')\n",
    "plt.xlabel('Maximum Number of Tobacco Retail Dealer Licenses')\n",
    "\n",
    "plt.subplot(2,2,2)\n",
    "sns.distplot(reducted_df['Active Tobacco Retail Dealer Licenses'], hist=True, kde=True, color='darkblue',\n",
    "             hist_kws={'edgecolor': 'black'}, kde_kws={'linewidth': 2})\n",
    "plt.title('Active Tobacco Retail Dealer Licenses')\n",
    "plt.xlabel('Number of Active Tobacco Retail Dealer Licenses')\n",
    "\n",
    "plt.subplot(2,2,3)\n",
    "reducted_df.boxplot(column='Tobacco Retail Dealer Cap')\n",
    "\n",
    "plt.subplot(2,2,4)\n",
    "reducted_df.boxplot(column='Active Tobacco Retail Dealer Licenses')\n",
    "\n",
    "plt.show()"
   ]
  },
  {
   "cell_type": "markdown",
   "metadata": {},
   "source": [
    "## Create a new column in the same dataframe that is raised power of two of an existing column\n",
    "Example:\n",
    "![power_of_two](images/ex1.jpeg)\n"
   ]
  },
  {
   "cell_type": "code",
   "execution_count": 8,
   "metadata": {},
   "outputs": [
    {
     "name": "stderr",
     "output_type": "stream",
     "text": [
      "<ipython-input-8-00dc5dae05b5>:1: SettingWithCopyWarning: \n",
      "A value is trying to be set on a copy of a slice from a DataFrame.\n",
      "Try using .loc[row_indexer,col_indexer] = value instead\n",
      "\n",
      "See the caveats in the documentation: https://pandas.pydata.org/pandas-docs/stable/user_guide/indexing.html#returning-a-view-versus-a-copy\n",
      "  reducted_df['Raised_power_value'] = reducted_df['Tobacco Retail Dealer Cap']**2\n"
     ]
    },
    {
     "data": {
      "text/html": [
       "<div>\n",
       "<style scoped>\n",
       "    .dataframe tbody tr th:only-of-type {\n",
       "        vertical-align: middle;\n",
       "    }\n",
       "\n",
       "    .dataframe tbody tr th {\n",
       "        vertical-align: top;\n",
       "    }\n",
       "\n",
       "    .dataframe thead th {\n",
       "        text-align: right;\n",
       "    }\n",
       "</style>\n",
       "<table border=\"1\" class=\"dataframe\">\n",
       "  <thead>\n",
       "    <tr style=\"text-align: right;\">\n",
       "      <th></th>\n",
       "      <th>Tobacco Retail Dealer Cap</th>\n",
       "      <th>Active Tobacco Retail Dealer Licenses</th>\n",
       "      <th>Raised_power_value</th>\n",
       "    </tr>\n",
       "  </thead>\n",
       "  <tbody>\n",
       "    <tr>\n",
       "      <th>0</th>\n",
       "      <td>63</td>\n",
       "      <td>105</td>\n",
       "      <td>3969</td>\n",
       "    </tr>\n",
       "    <tr>\n",
       "      <th>1</th>\n",
       "      <td>36</td>\n",
       "      <td>68</td>\n",
       "      <td>1296</td>\n",
       "    </tr>\n",
       "    <tr>\n",
       "      <th>2</th>\n",
       "      <td>45</td>\n",
       "      <td>81</td>\n",
       "      <td>2025</td>\n",
       "    </tr>\n",
       "    <tr>\n",
       "      <th>3</th>\n",
       "      <td>88</td>\n",
       "      <td>150</td>\n",
       "      <td>7744</td>\n",
       "    </tr>\n",
       "    <tr>\n",
       "      <th>4</th>\n",
       "      <td>68</td>\n",
       "      <td>124</td>\n",
       "      <td>4624</td>\n",
       "    </tr>\n",
       "  </tbody>\n",
       "</table>\n",
       "</div>"
      ],
      "text/plain": [
       "   Tobacco Retail Dealer Cap  Active Tobacco Retail Dealer Licenses  \\\n",
       "0                         63                                    105   \n",
       "1                         36                                     68   \n",
       "2                         45                                     81   \n",
       "3                         88                                    150   \n",
       "4                         68                                    124   \n",
       "\n",
       "   Raised_power_value  \n",
       "0                3969  \n",
       "1                1296  \n",
       "2                2025  \n",
       "3                7744  \n",
       "4                4624  "
      ]
     },
     "execution_count": 8,
     "metadata": {},
     "output_type": "execute_result"
    }
   ],
   "source": [
    "reducted_df['Raised_power_value'] = reducted_df['Tobacco Retail Dealer Cap']**2\n",
    "reducted_df.head()"
   ]
  },
  {
   "cell_type": "markdown",
   "metadata": {},
   "source": [
    "# Citi Bike investigation\n",
    "![citi-bike](images/citibike.jpeg)\n",
    ">Citi Bike is the largest bike share program in the US, with 20,000 bikes and over 1,300 stations across Manhattan, Brooklyn, Queens, the Bronx and Jersey City. It was designed for quick trips with convenience in mind, and it’s a fun and affordable way to get around town."
   ]
  },
  {
   "cell_type": "markdown",
   "metadata": {},
   "source": [
    "## Choose a citibikes dataset (one or two months, earlier datasets are convenient because they are smaller)"
   ]
  },
  {
   "cell_type": "markdown",
   "metadata": {},
   "source": [
    "Example for downloading September 2017 Citibike data:\n",
    "```\n",
    "! month=201709\n",
    "! curl https://s3.amazonaws.com/tripdata/$month-citibike-tripdata.csv.zip >> $month-citibike-tripdata.csv.zip\n",
    "! unzip $month-citibike-tripdata.csv.zip\n",
    "```"
   ]
  },
  {
   "cell_type": "code",
   "execution_count": 50,
   "metadata": {},
   "outputs": [
    {
     "name": "stderr",
     "output_type": "stream",
     "text": [
      "  % Total    % Received % Xferd  Average Speed   Time    Time     Time  Current\n",
      "                                 Dload  Upload   Total   Spent    Left  Speed\n",
      "\n",
      "  0     0    0     0    0     0      0      0 --:--:-- --:--:-- --:--:--     0\n",
      "  0     0    0     0    0     0      0      0 --:--:-- --:--:-- --:--:--     0\n",
      "  0 62.8M    0  1679    0     0   1267      0 14:26:33  0:00:01 14:26:32  1267\n",
      "  0 62.8M    0  271k    0     0   125k      0  0:08:31  0:00:02  0:08:29  125k\n",
      "  1 62.8M    1  815k    0     0   258k      0  0:04:08  0:00:03  0:04:05  258k\n",
      "  1 62.8M    1 1240k    0     0   291k      0  0:03:40  0:00:04  0:03:36  291k\n",
      "  2 62.8M    2 1733k    0     0   335k      0  0:03:11  0:00:05  0:03:06  350k\n",
      "  3 62.8M    3 2225k    0     0   361k      0  0:02:58  0:00:06  0:02:52  459k\n",
      "  4 62.8M    4 2736k    0     0   382k      0  0:02:48  0:00:07  0:02:41  493k\n",
      "  5 62.8M    5 3263k    0     0   400k      0  0:02:40  0:00:08  0:02:32  489k\n",
      "  5 62.8M    5 3790k    0     0   414k      0  0:02:35  0:00:09  0:02:26  520k\n",
      "  6 62.8M    6 4317k    0     0   425k      0  0:02:31  0:00:10  0:02:21  517k\n",
      "  7 62.8M    7 4895k    0     0   438k      0  0:02:26  0:00:11  0:02:15  534k\n",
      "  8 62.8M    8 5490k    0     0   451k      0  0:02:22  0:00:12  0:02:10  550k\n",
      "  9 62.8M    9 6169k    0     0   468k      0  0:02:17  0:00:13  0:02:04  579k\n",
      " 10 62.8M   10 6969k    0     0   492k      0  0:02:10  0:00:14  0:01:56  635k\n",
      " 12 62.8M   12 8006k    0     0   528k      0  0:02:01  0:00:15  0:01:46  737k\n",
      " 14 62.8M   14 9060k    0     0   554k      0  0:01:56  0:00:16  0:01:40  801k\n",
      " 16 62.8M   16 10.1M    0     0   604k      0  0:01:46  0:00:17  0:01:29  976k\n",
      " 17 62.8M   17 11.3M    0     0   637k      0  0:01:40  0:00:18  0:01:22 1084k\n",
      " 19 62.8M   19 12.3M    0     0   658k      0  0:01:37  0:00:19  0:01:18 1123k\n",
      " 21 62.8M   21 13.2M    0     0   667k      0  0:01:36  0:00:20  0:01:16 1078k\n",
      " 22 62.8M   22 14.2M    0     0   690k      0  0:01:33  0:00:21  0:01:12 1152k\n",
      " 24 62.8M   24 15.0M    0     0   697k      0  0:01:32  0:00:22  0:01:10 1015k\n",
      " 25 62.8M   25 15.9M    0     0   705k      0  0:01:31  0:00:23  0:01:08  952k\n",
      " 26 62.8M   26 16.8M    0     0   713k      0  0:01:30  0:00:24  0:01:06  928k\n",
      " 28 62.8M   28 17.7M    0     0   721k      0  0:01:29  0:00:25  0:01:04  947k\n",
      " 29 62.8M   29 18.6M    0     0   729k      0  0:01:28  0:00:26  0:01:02  894k\n",
      " 31 62.8M   31 19.5M    0     0   737k      0  0:01:27  0:00:27  0:01:00  915k\n",
      " 32 62.8M   32 20.4M    0     0   744k      0  0:01:26  0:00:28  0:00:58  924k\n",
      " 33 62.8M   33 21.2M    0     0   748k      0  0:01:25  0:00:29  0:00:56  914k\n",
      " 35 62.8M   35 22.1M    0     0   752k      0  0:01:25  0:00:30  0:00:55  907k\n",
      " 36 62.8M   36 23.1M    0     0   759k      0  0:01:24  0:00:31  0:00:53  918k\n",
      " 38 62.8M   38 24.1M    0     0   767k      0  0:01:23  0:00:32  0:00:51  931k\n",
      " 39 62.8M   39 25.1M    0     0   775k      0  0:01:22  0:00:33  0:00:49  952k\n",
      " 41 62.8M   41 26.1M    0     0   782k      0  0:01:22  0:00:34  0:00:48  985k\n",
      " 43 62.8M   43 27.1M    0     0   790k      0  0:01:21  0:00:35  0:00:46 1016k\n",
      " 44 62.8M   44 28.1M    0     0   797k      0  0:01:20  0:00:36  0:00:44 1033k\n",
      " 46 62.8M   46 29.2M    0     0   805k      0  0:01:19  0:00:37  0:00:42 1050k\n",
      " 48 62.8M   48 30.3M    0     0   814k      0  0:01:18  0:00:38  0:00:40 1074k\n",
      " 50 62.8M   50 31.5M    0     0   824k      0  0:01:17  0:00:39  0:00:38 1112k\n",
      " 51 62.8M   51 32.6M    0     0   832k      0  0:01:17  0:00:40  0:00:37 1131k\n",
      " 53 62.8M   53 33.7M    0     0   840k      0  0:01:16  0:00:41  0:00:35 1149k\n",
      " 55 62.8M   55 34.9M    0     0   842k      0  0:01:16  0:00:42  0:00:34 1095k\n",
      " 57 62.8M   57 35.9M    0     0   854k      0  0:01:15  0:00:43  0:00:32 1152k\n",
      " 58 62.8M   58 37.0M    0     0   858k      0  0:01:14  0:00:44  0:00:30 1122k\n",
      " 60 62.8M   60 38.1M    0     0   864k      0  0:01:14  0:00:45  0:00:29 1119k\n",
      " 61 62.8M   61 38.9M    0     0   861k      0  0:01:14  0:00:46  0:00:28 1031k\n",
      " 63 62.8M   63 40.0M    0     0   869k      0  0:01:13  0:00:47  0:00:26 1120k\n",
      " 65 62.8M   65 41.0M    0     0   871k      0  0:01:13  0:00:48  0:00:25 1025k\n",
      " 66 62.8M   66 42.0M    0     0   876k      0  0:01:13  0:00:49  0:00:24 1030k\n",
      " 68 62.8M   68 43.1M    0     0   880k      0  0:01:13  0:00:50  0:00:23 1030k\n",
      " 70 62.8M   70 44.2M    0     0   885k      0  0:01:12  0:00:51  0:00:21 1116k\n",
      " 72 62.8M   72 45.3M    0     0   890k      0  0:01:12  0:00:52  0:00:20 1084k\n",
      " 73 62.8M   73 46.4M    0     0   894k      0  0:01:11  0:00:53  0:00:18 1116k\n",
      " 75 62.8M   75 47.5M    0     0   899k      0  0:01:11  0:00:54  0:00:17 1125k\n",
      " 77 62.8M   77 48.5M    0     0   900k      0  0:01:11  0:00:55  0:00:16 1098k\n",
      " 78 62.8M   78 49.4M    0     0   902k      0  0:01:11  0:00:56  0:00:15 1071k\n",
      " 80 62.8M   80 50.5M    0     0   905k      0  0:01:11  0:00:57  0:00:14 1064k\n",
      " 82 62.8M   82 51.6M    0     0   909k      0  0:01:10  0:00:58  0:00:12 1065k\n",
      " 84 62.8M   84 52.8M    0     0   914k      0  0:01:10  0:00:59  0:00:11 1077k\n",
      " 85 62.8M   85 53.9M    0     0   918k      0  0:01:10  0:01:00  0:00:10 1114k\n",
      " 87 62.8M   87 55.0M    0     0   912k      0  0:01:10  0:01:01  0:00:09 1017k\n",
      " 88 62.8M   88 55.8M    0     0   917k      0  0:01:10  0:01:02  0:00:08 1046k\n",
      " 89 62.8M   89 56.3M    0     0   913k      0  0:01:10  0:01:03  0:00:07  953k\n",
      " 90 62.8M   90 56.7M    0     0   905k      0  0:01:11  0:01:04  0:00:07  805k\n",
      " 91 62.8M   91 57.2M    0     0   899k      0  0:01:11  0:01:05  0:00:06  669k\n",
      " 91 62.8M   91 57.6M    0     0   892k      0  0:01:12  0:01:06  0:00:06  614k\n",
      " 92 62.8M   92 58.1M    0     0   886k      0  0:01:12  0:01:07  0:00:05  495k\n",
      " 93 62.8M   93 58.6M    0     0   880k      0  0:01:13  0:01:08  0:00:05  476k\n",
      " 94 62.8M   94 59.1M    0     0   875k      0  0:01:13  0:01:09  0:00:04  492k\n",
      " 95 62.8M   95 59.7M    0     0   871k      0  0:01:13  0:01:10  0:00:03  512k\n",
      " 96 62.8M   96 60.4M    0     0   869k      0  0:01:13  0:01:11  0:00:02  557k\n",
      " 97 62.8M   97 61.0M    0     0   864k      0  0:01:14  0:01:12  0:00:02  573k\n",
      " 98 62.8M   98 61.9M    0     0   867k      0  0:01:14  0:01:13  0:00:01  683k\n",
      " 99 62.8M   99 62.8M    0     0   867k      0  0:01:14  0:01:14 --:--:--  748k\n",
      "100 62.8M  100 62.8M    0     0   867k      0  0:01:14  0:01:14 --:--:--  789k\n",
      "'unzip' is not recognized as an internal or external command,\n",
      "operable program or batch file.\n"
     ]
    }
   ],
   "source": [
    "! curl https://s3.amazonaws.com/tripdata/201709-citibike-tripdata.csv.zip >> 201709-citibike-tripdata.csv.zip"
   ]
  },
  {
   "cell_type": "code",
   "execution_count": 59,
   "metadata": {},
   "outputs": [],
   "source": [
    "from zipfile import ZipFile\n",
    "zf = ZipFile('C:/Users/Chrome/gitklasa_deschietri/module-2/201709-citibike-tripdata.csv.zip', 'r')\n",
    "zf.extractall('C:/Users/Chrome/gitklasa_deschietri/module-2/')\n",
    "zf.close()"
   ]
  },
  {
   "cell_type": "code",
   "execution_count": 9,
   "metadata": {},
   "outputs": [
    {
     "data": {
      "text/html": [
       "<div>\n",
       "<style scoped>\n",
       "    .dataframe tbody tr th:only-of-type {\n",
       "        vertical-align: middle;\n",
       "    }\n",
       "\n",
       "    .dataframe tbody tr th {\n",
       "        vertical-align: top;\n",
       "    }\n",
       "\n",
       "    .dataframe thead th {\n",
       "        text-align: right;\n",
       "    }\n",
       "</style>\n",
       "<table border=\"1\" class=\"dataframe\">\n",
       "  <thead>\n",
       "    <tr style=\"text-align: right;\">\n",
       "      <th></th>\n",
       "      <th>tripduration</th>\n",
       "      <th>starttime</th>\n",
       "      <th>stoptime</th>\n",
       "      <th>start station id</th>\n",
       "      <th>start station name</th>\n",
       "      <th>start station latitude</th>\n",
       "      <th>start station longitude</th>\n",
       "      <th>end station id</th>\n",
       "      <th>end station name</th>\n",
       "      <th>end station latitude</th>\n",
       "      <th>end station longitude</th>\n",
       "      <th>bikeid</th>\n",
       "      <th>usertype</th>\n",
       "      <th>birth year</th>\n",
       "      <th>gender</th>\n",
       "    </tr>\n",
       "  </thead>\n",
       "  <tbody>\n",
       "    <tr>\n",
       "      <th>0</th>\n",
       "      <td>362</td>\n",
       "      <td>2017-09-01 00:00:17</td>\n",
       "      <td>2017-09-01 00:06:19</td>\n",
       "      <td>3331</td>\n",
       "      <td>Riverside Dr &amp; W 104 St</td>\n",
       "      <td>40.801343</td>\n",
       "      <td>-73.971146</td>\n",
       "      <td>3328</td>\n",
       "      <td>W 100 St &amp; Manhattan Ave</td>\n",
       "      <td>40.795000</td>\n",
       "      <td>-73.964500</td>\n",
       "      <td>14530</td>\n",
       "      <td>Subscriber</td>\n",
       "      <td>1993.0</td>\n",
       "      <td>1</td>\n",
       "    </tr>\n",
       "    <tr>\n",
       "      <th>1</th>\n",
       "      <td>188</td>\n",
       "      <td>2017-09-01 00:00:21</td>\n",
       "      <td>2017-09-01 00:03:30</td>\n",
       "      <td>3101</td>\n",
       "      <td>N 12 St &amp; Bedford Ave</td>\n",
       "      <td>40.720798</td>\n",
       "      <td>-73.954847</td>\n",
       "      <td>3100</td>\n",
       "      <td>Nassau Ave &amp; Newell St</td>\n",
       "      <td>40.724813</td>\n",
       "      <td>-73.947526</td>\n",
       "      <td>15475</td>\n",
       "      <td>Subscriber</td>\n",
       "      <td>1988.0</td>\n",
       "      <td>1</td>\n",
       "    </tr>\n",
       "    <tr>\n",
       "      <th>2</th>\n",
       "      <td>305</td>\n",
       "      <td>2017-09-01 00:00:25</td>\n",
       "      <td>2017-09-01 00:05:30</td>\n",
       "      <td>3140</td>\n",
       "      <td>1 Ave &amp; E 78 St</td>\n",
       "      <td>40.771404</td>\n",
       "      <td>-73.953517</td>\n",
       "      <td>3141</td>\n",
       "      <td>1 Ave &amp; E 68 St</td>\n",
       "      <td>40.765005</td>\n",
       "      <td>-73.958185</td>\n",
       "      <td>30346</td>\n",
       "      <td>Subscriber</td>\n",
       "      <td>1969.0</td>\n",
       "      <td>1</td>\n",
       "    </tr>\n",
       "    <tr>\n",
       "      <th>3</th>\n",
       "      <td>223</td>\n",
       "      <td>2017-09-01 00:00:52</td>\n",
       "      <td>2017-09-01 00:04:36</td>\n",
       "      <td>236</td>\n",
       "      <td>St Marks Pl &amp; 2 Ave</td>\n",
       "      <td>40.728419</td>\n",
       "      <td>-73.987140</td>\n",
       "      <td>473</td>\n",
       "      <td>Rivington St &amp; Chrystie St</td>\n",
       "      <td>40.721101</td>\n",
       "      <td>-73.991925</td>\n",
       "      <td>28056</td>\n",
       "      <td>Subscriber</td>\n",
       "      <td>1993.0</td>\n",
       "      <td>1</td>\n",
       "    </tr>\n",
       "    <tr>\n",
       "      <th>4</th>\n",
       "      <td>758</td>\n",
       "      <td>2017-09-01 00:01:01</td>\n",
       "      <td>2017-09-01 00:13:40</td>\n",
       "      <td>3427</td>\n",
       "      <td>Lafayette St &amp; Jersey St</td>\n",
       "      <td>40.724305</td>\n",
       "      <td>-73.996010</td>\n",
       "      <td>3431</td>\n",
       "      <td>E 35 St &amp; 3 Ave</td>\n",
       "      <td>40.746524</td>\n",
       "      <td>-73.977885</td>\n",
       "      <td>25413</td>\n",
       "      <td>Subscriber</td>\n",
       "      <td>1987.0</td>\n",
       "      <td>1</td>\n",
       "    </tr>\n",
       "  </tbody>\n",
       "</table>\n",
       "</div>"
      ],
      "text/plain": [
       "   tripduration            starttime             stoptime  start station id  \\\n",
       "0           362  2017-09-01 00:00:17  2017-09-01 00:06:19              3331   \n",
       "1           188  2017-09-01 00:00:21  2017-09-01 00:03:30              3101   \n",
       "2           305  2017-09-01 00:00:25  2017-09-01 00:05:30              3140   \n",
       "3           223  2017-09-01 00:00:52  2017-09-01 00:04:36               236   \n",
       "4           758  2017-09-01 00:01:01  2017-09-01 00:13:40              3427   \n",
       "\n",
       "         start station name  start station latitude  start station longitude  \\\n",
       "0   Riverside Dr & W 104 St               40.801343               -73.971146   \n",
       "1     N 12 St & Bedford Ave               40.720798               -73.954847   \n",
       "2           1 Ave & E 78 St               40.771404               -73.953517   \n",
       "3       St Marks Pl & 2 Ave               40.728419               -73.987140   \n",
       "4  Lafayette St & Jersey St               40.724305               -73.996010   \n",
       "\n",
       "   end station id            end station name  end station latitude  \\\n",
       "0            3328    W 100 St & Manhattan Ave             40.795000   \n",
       "1            3100      Nassau Ave & Newell St             40.724813   \n",
       "2            3141             1 Ave & E 68 St             40.765005   \n",
       "3             473  Rivington St & Chrystie St             40.721101   \n",
       "4            3431             E 35 St & 3 Ave             40.746524   \n",
       "\n",
       "   end station longitude  bikeid    usertype  birth year  gender  \n",
       "0             -73.964500   14530  Subscriber      1993.0       1  \n",
       "1             -73.947526   15475  Subscriber      1988.0       1  \n",
       "2             -73.958185   30346  Subscriber      1969.0       1  \n",
       "3             -73.991925   28056  Subscriber      1993.0       1  \n",
       "4             -73.977885   25413  Subscriber      1987.0       1  "
      ]
     },
     "execution_count": 9,
     "metadata": {},
     "output_type": "execute_result"
    }
   ],
   "source": [
    "# load data\n",
    "data = pd.read_csv('201709-citibike-tripdata.csv')\n",
    "data.head()"
   ]
  },
  {
   "cell_type": "markdown",
   "metadata": {},
   "source": [
    "## Count the number of missing values of each column"
   ]
  },
  {
   "cell_type": "code",
   "execution_count": 10,
   "metadata": {},
   "outputs": [
    {
     "data": {
      "text/plain": [
       "tripduration                    0\n",
       "starttime                       0\n",
       "stoptime                        0\n",
       "start station id                0\n",
       "start station name              0\n",
       "start station latitude          0\n",
       "start station longitude         0\n",
       "end station id                  0\n",
       "end station name                0\n",
       "end station latitude            0\n",
       "end station longitude           0\n",
       "bikeid                          0\n",
       "usertype                        0\n",
       "birth year                 207468\n",
       "gender                          0\n",
       "dtype: int64"
      ]
     },
     "execution_count": 10,
     "metadata": {},
     "output_type": "execute_result"
    }
   ],
   "source": [
    "data.isnull().sum()"
   ]
  },
  {
   "cell_type": "markdown",
   "metadata": {},
   "source": [
    "## Who rides citibikes? Show ridership distribution by gender, user type, and age\n",
    "Process the data and plot your answers"
   ]
  },
  {
   "cell_type": "code",
   "execution_count": 11,
   "metadata": {},
   "outputs": [
    {
     "data": {
      "text/plain": [
       "1    1218524\n",
       "2     444132\n",
       "0     215442\n",
       "Name: gender, dtype: int64"
      ]
     },
     "execution_count": 11,
     "metadata": {},
     "output_type": "execute_result"
    }
   ],
   "source": [
    "# gender value counting\n",
    "data['gender'].value_counts()"
   ]
  },
  {
   "cell_type": "code",
   "execution_count": 12,
   "metadata": {},
   "outputs": [
    {
     "data": {
      "image/png": "[encoded data removed]",
      "text/plain": [
       "<Figure size 432x288 with 1 Axes>"
      ]
     },
     "metadata": {
      "needs_background": "light"
     },
     "output_type": "display_data"
    }
   ],
   "source": [
    "sns.countplot(x='gender', data=data)\n",
    "plt.title('Distribution of Gender')\n",
    "plt.show()"
   ]
  },
  {
   "cell_type": "markdown",
   "metadata": {},
   "source": [
    ">The ridership was dominated by male (1) rather than female (2) and unknown (0)"
   ]
  },
  {
   "cell_type": "code",
   "execution_count": 13,
   "metadata": {},
   "outputs": [
    {
     "data": {
      "text/plain": [
       "Subscriber    1643109\n",
       "Customer       234989\n",
       "Name: usertype, dtype: int64"
      ]
     },
     "execution_count": 13,
     "metadata": {},
     "output_type": "execute_result"
    }
   ],
   "source": [
    "# user type value counting\n",
    "data['usertype'].value_counts()"
   ]
  },
  {
   "cell_type": "code",
   "execution_count": 14,
   "metadata": {},
   "outputs": [
    {
     "data": {
      "image/png": "[encoded data removed]",
      "text/plain": [
       "<Figure size 432x288 with 1 Axes>"
      ]
     },
     "metadata": {
      "needs_background": "light"
     },
     "output_type": "display_data"
    }
   ],
   "source": [
    "sns.countplot(x='usertype', data=data)\n",
    "plt.title('Distribution of User Type')\n",
    "plt.show()"
   ]
  },
  {
   "cell_type": "markdown",
   "metadata": {},
   "source": [
    ">The ridership was mostly Subsriber (annual member) with 1.643.109 users, while the rest was Customer (24-hour pass or 3-day pass user) with 234.989 users"
   ]
  },
  {
   "cell_type": "code",
   "execution_count": 15,
   "metadata": {},
   "outputs": [
    {
     "data": {
      "text/html": [
       "<div>\n",
       "<style scoped>\n",
       "    .dataframe tbody tr th:only-of-type {\n",
       "        vertical-align: middle;\n",
       "    }\n",
       "\n",
       "    .dataframe tbody tr th {\n",
       "        vertical-align: top;\n",
       "    }\n",
       "\n",
       "    .dataframe thead th {\n",
       "        text-align: right;\n",
       "    }\n",
       "</style>\n",
       "<table border=\"1\" class=\"dataframe\">\n",
       "  <thead>\n",
       "    <tr style=\"text-align: right;\">\n",
       "      <th></th>\n",
       "      <th>tripduration</th>\n",
       "      <th>starttime</th>\n",
       "      <th>stoptime</th>\n",
       "      <th>start station id</th>\n",
       "      <th>start station name</th>\n",
       "      <th>start station latitude</th>\n",
       "      <th>start station longitude</th>\n",
       "      <th>end station id</th>\n",
       "      <th>end station name</th>\n",
       "      <th>end station latitude</th>\n",
       "      <th>end station longitude</th>\n",
       "      <th>bikeid</th>\n",
       "      <th>usertype</th>\n",
       "      <th>birth year</th>\n",
       "      <th>gender</th>\n",
       "      <th>age</th>\n",
       "    </tr>\n",
       "  </thead>\n",
       "  <tbody>\n",
       "    <tr>\n",
       "      <th>0</th>\n",
       "      <td>362</td>\n",
       "      <td>2017-09-01 00:00:17</td>\n",
       "      <td>2017-09-01 00:06:19</td>\n",
       "      <td>3331</td>\n",
       "      <td>Riverside Dr &amp; W 104 St</td>\n",
       "      <td>40.801343</td>\n",
       "      <td>-73.971146</td>\n",
       "      <td>3328</td>\n",
       "      <td>W 100 St &amp; Manhattan Ave</td>\n",
       "      <td>40.795000</td>\n",
       "      <td>-73.964500</td>\n",
       "      <td>14530</td>\n",
       "      <td>Subscriber</td>\n",
       "      <td>1993.0</td>\n",
       "      <td>1</td>\n",
       "      <td>28.0</td>\n",
       "    </tr>\n",
       "    <tr>\n",
       "      <th>1</th>\n",
       "      <td>188</td>\n",
       "      <td>2017-09-01 00:00:21</td>\n",
       "      <td>2017-09-01 00:03:30</td>\n",
       "      <td>3101</td>\n",
       "      <td>N 12 St &amp; Bedford Ave</td>\n",
       "      <td>40.720798</td>\n",
       "      <td>-73.954847</td>\n",
       "      <td>3100</td>\n",
       "      <td>Nassau Ave &amp; Newell St</td>\n",
       "      <td>40.724813</td>\n",
       "      <td>-73.947526</td>\n",
       "      <td>15475</td>\n",
       "      <td>Subscriber</td>\n",
       "      <td>1988.0</td>\n",
       "      <td>1</td>\n",
       "      <td>33.0</td>\n",
       "    </tr>\n",
       "    <tr>\n",
       "      <th>2</th>\n",
       "      <td>305</td>\n",
       "      <td>2017-09-01 00:00:25</td>\n",
       "      <td>2017-09-01 00:05:30</td>\n",
       "      <td>3140</td>\n",
       "      <td>1 Ave &amp; E 78 St</td>\n",
       "      <td>40.771404</td>\n",
       "      <td>-73.953517</td>\n",
       "      <td>3141</td>\n",
       "      <td>1 Ave &amp; E 68 St</td>\n",
       "      <td>40.765005</td>\n",
       "      <td>-73.958185</td>\n",
       "      <td>30346</td>\n",
       "      <td>Subscriber</td>\n",
       "      <td>1969.0</td>\n",
       "      <td>1</td>\n",
       "      <td>52.0</td>\n",
       "    </tr>\n",
       "    <tr>\n",
       "      <th>3</th>\n",
       "      <td>223</td>\n",
       "      <td>2017-09-01 00:00:52</td>\n",
       "      <td>2017-09-01 00:04:36</td>\n",
       "      <td>236</td>\n",
       "      <td>St Marks Pl &amp; 2 Ave</td>\n",
       "      <td>40.728419</td>\n",
       "      <td>-73.987140</td>\n",
       "      <td>473</td>\n",
       "      <td>Rivington St &amp; Chrystie St</td>\n",
       "      <td>40.721101</td>\n",
       "      <td>-73.991925</td>\n",
       "      <td>28056</td>\n",
       "      <td>Subscriber</td>\n",
       "      <td>1993.0</td>\n",
       "      <td>1</td>\n",
       "      <td>28.0</td>\n",
       "    </tr>\n",
       "    <tr>\n",
       "      <th>4</th>\n",
       "      <td>758</td>\n",
       "      <td>2017-09-01 00:01:01</td>\n",
       "      <td>2017-09-01 00:13:40</td>\n",
       "      <td>3427</td>\n",
       "      <td>Lafayette St &amp; Jersey St</td>\n",
       "      <td>40.724305</td>\n",
       "      <td>-73.996010</td>\n",
       "      <td>3431</td>\n",
       "      <td>E 35 St &amp; 3 Ave</td>\n",
       "      <td>40.746524</td>\n",
       "      <td>-73.977885</td>\n",
       "      <td>25413</td>\n",
       "      <td>Subscriber</td>\n",
       "      <td>1987.0</td>\n",
       "      <td>1</td>\n",
       "      <td>34.0</td>\n",
       "    </tr>\n",
       "  </tbody>\n",
       "</table>\n",
       "</div>"
      ],
      "text/plain": [
       "   tripduration            starttime             stoptime  start station id  \\\n",
       "0           362  2017-09-01 00:00:17  2017-09-01 00:06:19              3331   \n",
       "1           188  2017-09-01 00:00:21  2017-09-01 00:03:30              3101   \n",
       "2           305  2017-09-01 00:00:25  2017-09-01 00:05:30              3140   \n",
       "3           223  2017-09-01 00:00:52  2017-09-01 00:04:36               236   \n",
       "4           758  2017-09-01 00:01:01  2017-09-01 00:13:40              3427   \n",
       "\n",
       "         start station name  start station latitude  start station longitude  \\\n",
       "0   Riverside Dr & W 104 St               40.801343               -73.971146   \n",
       "1     N 12 St & Bedford Ave               40.720798               -73.954847   \n",
       "2           1 Ave & E 78 St               40.771404               -73.953517   \n",
       "3       St Marks Pl & 2 Ave               40.728419               -73.987140   \n",
       "4  Lafayette St & Jersey St               40.724305               -73.996010   \n",
       "\n",
       "   end station id            end station name  end station latitude  \\\n",
       "0            3328    W 100 St & Manhattan Ave             40.795000   \n",
       "1            3100      Nassau Ave & Newell St             40.724813   \n",
       "2            3141             1 Ave & E 68 St             40.765005   \n",
       "3             473  Rivington St & Chrystie St             40.721101   \n",
       "4            3431             E 35 St & 3 Ave             40.746524   \n",
       "\n",
       "   end station longitude  bikeid    usertype  birth year  gender   age  \n",
       "0             -73.964500   14530  Subscriber      1993.0       1  28.0  \n",
       "1             -73.947526   15475  Subscriber      1988.0       1  33.0  \n",
       "2             -73.958185   30346  Subscriber      1969.0       1  52.0  \n",
       "3             -73.991925   28056  Subscriber      1993.0       1  28.0  \n",
       "4             -73.977885   25413  Subscriber      1987.0       1  34.0  "
      ]
     },
     "execution_count": 15,
     "metadata": {},
     "output_type": "execute_result"
    }
   ],
   "source": [
    "# add age column from bith year column\n",
    "import datetime\n",
    "now = datetime.datetime.now()\n",
    "this_year = now.year\n",
    "\n",
    "data['age'] = this_year-data['birth year']\n",
    "data.head()"
   ]
  },
  {
   "cell_type": "code",
   "execution_count": 16,
   "metadata": {},
   "outputs": [
    {
     "data": {
      "text/plain": [
       "count    1670630.0\n",
       "mean          41.0\n",
       "std           12.0\n",
       "min           20.0\n",
       "25%           32.0\n",
       "50%           39.0\n",
       "75%           49.0\n",
       "max          136.0\n",
       "Name: age, dtype: float64"
      ]
     },
     "execution_count": 16,
     "metadata": {},
     "output_type": "execute_result"
    }
   ],
   "source": [
    "# summary statistics of age\n",
    "round(data['age'].describe(),0)"
   ]
  },
  {
   "cell_type": "code",
   "execution_count": 17,
   "metadata": {},
   "outputs": [
    {
     "data": {
      "image/png": "[encoded data removed]",
      "text/plain": [
       "<Figure size 432x288 with 1 Axes>"
      ]
     },
     "metadata": {
      "needs_background": "light"
     },
     "output_type": "display_data"
    }
   ],
   "source": [
    "sns.distplot(data['age'], hist=True, kde=True, color='darkblue',\n",
    "             hist_kws={'edgecolor': 'black'}, kde_kws={'linewidth': 2})\n",
    "plt.title('Distribution of Age')\n",
    "plt.show()"
   ]
  },
  {
   "cell_type": "markdown",
   "metadata": {},
   "source": [
    ">The distribution of age is positively skewed with mean of the age: 39 years"
   ]
  },
  {
   "cell_type": "markdown",
   "metadata": {},
   "source": [
    "#### From the ridership distribution data by gender, user type, and age, we can conclude that the majority of users was 39-year male subsriber."
   ]
  },
  {
   "cell_type": "markdown",
   "metadata": {},
   "source": [
    "## What is the average number of trips per day?"
   ]
  },
  {
   "cell_type": "code",
   "execution_count": 18,
   "metadata": {},
   "outputs": [
    {
     "name": "stdout",
     "output_type": "stream",
     "text": [
      "<class 'pandas.core.frame.DataFrame'>\n",
      "RangeIndex: 1878098 entries, 0 to 1878097\n",
      "Data columns (total 16 columns):\n",
      " #   Column                   Dtype  \n",
      "---  ------                   -----  \n",
      " 0   tripduration             int64  \n",
      " 1   starttime                object \n",
      " 2   stoptime                 object \n",
      " 3   start station id         int64  \n",
      " 4   start station name       object \n",
      " 5   start station latitude   float64\n",
      " 6   start station longitude  float64\n",
      " 7   end station id           int64  \n",
      " 8   end station name         object \n",
      " 9   end station latitude     float64\n",
      " 10  end station longitude    float64\n",
      " 11  bikeid                   int64  \n",
      " 12  usertype                 object \n",
      " 13  birth year               float64\n",
      " 14  gender                   int64  \n",
      " 15  age                      float64\n",
      "dtypes: float64(6), int64(5), object(5)\n",
      "memory usage: 229.3+ MB\n"
     ]
    }
   ],
   "source": [
    "data.info()"
   ]
  },
  {
   "cell_type": "code",
   "execution_count": 19,
   "metadata": {},
   "outputs": [
    {
     "data": {
      "text/plain": [
       "0         2017-09-01 00:00:17\n",
       "1         2017-09-01 00:00:21\n",
       "2         2017-09-01 00:00:25\n",
       "3         2017-09-01 00:00:52\n",
       "4         2017-09-01 00:01:01\n",
       "                  ...        \n",
       "1878093   2017-09-30 23:59:30\n",
       "1878094   2017-09-30 23:59:33\n",
       "1878095   2017-09-30 23:59:40\n",
       "1878096   2017-09-30 23:59:49\n",
       "1878097   2017-09-30 23:59:52\n",
       "Name: starttime, Length: 1878098, dtype: datetime64[ns]"
      ]
     },
     "execution_count": 19,
     "metadata": {},
     "output_type": "execute_result"
    }
   ],
   "source": [
    "# change datatype to datetime\n",
    "data['starttime'] = pd.to_datetime(data['starttime'])\n",
    "data['starttime']"
   ]
  },
  {
   "cell_type": "code",
   "execution_count": 20,
   "metadata": {},
   "outputs": [
    {
     "data": {
      "text/html": [
       "<div>\n",
       "<style scoped>\n",
       "    .dataframe tbody tr th:only-of-type {\n",
       "        vertical-align: middle;\n",
       "    }\n",
       "\n",
       "    .dataframe tbody tr th {\n",
       "        vertical-align: top;\n",
       "    }\n",
       "\n",
       "    .dataframe thead th {\n",
       "        text-align: right;\n",
       "    }\n",
       "</style>\n",
       "<table border=\"1\" class=\"dataframe\">\n",
       "  <thead>\n",
       "    <tr style=\"text-align: right;\">\n",
       "      <th></th>\n",
       "      <th>date</th>\n",
       "      <th>number_of_trips</th>\n",
       "    </tr>\n",
       "  </thead>\n",
       "  <tbody>\n",
       "    <tr>\n",
       "      <th>0</th>\n",
       "      <td>2017-09-12</td>\n",
       "      <td>74580</td>\n",
       "    </tr>\n",
       "    <tr>\n",
       "      <th>1</th>\n",
       "      <td>2017-09-15</td>\n",
       "      <td>72297</td>\n",
       "    </tr>\n",
       "    <tr>\n",
       "      <th>2</th>\n",
       "      <td>2017-09-14</td>\n",
       "      <td>72071</td>\n",
       "    </tr>\n",
       "    <tr>\n",
       "      <th>3</th>\n",
       "      <td>2017-09-11</td>\n",
       "      <td>71917</td>\n",
       "    </tr>\n",
       "    <tr>\n",
       "      <th>4</th>\n",
       "      <td>2017-09-26</td>\n",
       "      <td>71518</td>\n",
       "    </tr>\n",
       "  </tbody>\n",
       "</table>\n",
       "</div>"
      ],
      "text/plain": [
       "        date  number_of_trips\n",
       "0 2017-09-12            74580\n",
       "1 2017-09-15            72297\n",
       "2 2017-09-14            72071\n",
       "3 2017-09-11            71917\n",
       "4 2017-09-26            71518"
      ]
     },
     "execution_count": 20,
     "metadata": {},
     "output_type": "execute_result"
    }
   ],
   "source": [
    "# group date by day\n",
    "trip_day = data['starttime'].dt.floor('d').value_counts().rename_axis('date').reset_index(name='number_of_trips')\n",
    "trip_day.head()"
   ]
  },
  {
   "cell_type": "code",
   "execution_count": 21,
   "metadata": {},
   "outputs": [
    {
     "name": "stdout",
     "output_type": "stream",
     "text": [
      "Average number of trips per day: 62603.27\n"
     ]
    }
   ],
   "source": [
    "# average number of trips per day\n",
    "number = trip_day['number_of_trips'].mean()\n",
    "print(f'Average number of trips per day: {number:.2f}')"
   ]
  },
  {
   "cell_type": "markdown",
   "metadata": {},
   "source": [
    "## What is the average trip duration?"
   ]
  },
  {
   "cell_type": "code",
   "execution_count": 22,
   "metadata": {},
   "outputs": [
    {
     "name": "stdout",
     "output_type": "stream",
     "text": [
      "The average trip duration is 16.62 minutes\n"
     ]
    }
   ],
   "source": [
    "# trip duration in minutes\n",
    "trip_duration = data['tripduration'].mean()/60\n",
    "print(f'The average trip duration is {trip_duration:.2f} minutes')"
   ]
  },
  {
   "cell_type": "markdown",
   "metadata": {},
   "source": [
    "## What days of the week are most rides taken on?\n",
    "Process the data and plot your answer"
   ]
  },
  {
   "cell_type": "code",
   "execution_count": 23,
   "metadata": {},
   "outputs": [
    {
     "data": {
      "text/html": [
       "<div>\n",
       "<style scoped>\n",
       "    .dataframe tbody tr th:only-of-type {\n",
       "        vertical-align: middle;\n",
       "    }\n",
       "\n",
       "    .dataframe tbody tr th {\n",
       "        vertical-align: top;\n",
       "    }\n",
       "\n",
       "    .dataframe thead th {\n",
       "        text-align: right;\n",
       "    }\n",
       "</style>\n",
       "<table border=\"1\" class=\"dataframe\">\n",
       "  <thead>\n",
       "    <tr style=\"text-align: right;\">\n",
       "      <th></th>\n",
       "      <th>date</th>\n",
       "      <th>number_of_trips</th>\n",
       "      <th>day</th>\n",
       "    </tr>\n",
       "  </thead>\n",
       "  <tbody>\n",
       "    <tr>\n",
       "      <th>0</th>\n",
       "      <td>2017-09-12</td>\n",
       "      <td>74580</td>\n",
       "      <td>Tuesday</td>\n",
       "    </tr>\n",
       "    <tr>\n",
       "      <th>1</th>\n",
       "      <td>2017-09-15</td>\n",
       "      <td>72297</td>\n",
       "      <td>Friday</td>\n",
       "    </tr>\n",
       "    <tr>\n",
       "      <th>2</th>\n",
       "      <td>2017-09-14</td>\n",
       "      <td>72071</td>\n",
       "      <td>Thursday</td>\n",
       "    </tr>\n",
       "    <tr>\n",
       "      <th>3</th>\n",
       "      <td>2017-09-11</td>\n",
       "      <td>71917</td>\n",
       "      <td>Monday</td>\n",
       "    </tr>\n",
       "    <tr>\n",
       "      <th>4</th>\n",
       "      <td>2017-09-26</td>\n",
       "      <td>71518</td>\n",
       "      <td>Tuesday</td>\n",
       "    </tr>\n",
       "  </tbody>\n",
       "</table>\n",
       "</div>"
      ],
      "text/plain": [
       "        date  number_of_trips       day\n",
       "0 2017-09-12            74580   Tuesday\n",
       "1 2017-09-15            72297    Friday\n",
       "2 2017-09-14            72071  Thursday\n",
       "3 2017-09-11            71917    Monday\n",
       "4 2017-09-26            71518   Tuesday"
      ]
     },
     "execution_count": 23,
     "metadata": {},
     "output_type": "execute_result"
    }
   ],
   "source": [
    "#add day name of the week to trip_day dataframe based on the date\n",
    "trip_day['day'] = trip_day['date'].dt.day_name()\n",
    "trip_day.head()"
   ]
  },
  {
   "cell_type": "markdown",
   "metadata": {},
   "source": [
    ">Tuesday, Sep 12th is the day most rides taken on (74.580 trips)"
   ]
  },
  {
   "cell_type": "code",
   "execution_count": 24,
   "metadata": {},
   "outputs": [
    {
     "data": {
      "image/png": "[encoded data removed]",
      "text/plain": [
       "<Figure size 1800x360 with 1 Axes>"
      ]
     },
     "metadata": {
      "needs_background": "light"
     },
     "output_type": "display_data"
    }
   ],
   "source": [
    "#sort trip_day dataframe by date\n",
    "sorted_trip_day = trip_day.sort_values(by='date', ascending=True)\n",
    "\n",
    "#plot the data on line graph\n",
    "line = sns.relplot(data=sorted_trip_day, x='date', y='number_of_trips', kind='line', height=3)\n",
    "line.fig.set_size_inches(25,5)\n",
    "plt.title('Number of Rides Taken on')\n",
    "plt.show()"
   ]
  },
  {
   "cell_type": "markdown",
   "metadata": {},
   "source": [
    "## What hour of the day are most rides taken on?\n",
    "Process the data and plot your answer"
   ]
  },
  {
   "cell_type": "code",
   "execution_count": 25,
   "metadata": {},
   "outputs": [
    {
     "data": {
      "text/html": [
       "<div>\n",
       "<style scoped>\n",
       "    .dataframe tbody tr th:only-of-type {\n",
       "        vertical-align: middle;\n",
       "    }\n",
       "\n",
       "    .dataframe tbody tr th {\n",
       "        vertical-align: top;\n",
       "    }\n",
       "\n",
       "    .dataframe thead th {\n",
       "        text-align: right;\n",
       "    }\n",
       "</style>\n",
       "<table border=\"1\" class=\"dataframe\">\n",
       "  <thead>\n",
       "    <tr style=\"text-align: right;\">\n",
       "      <th></th>\n",
       "      <th>tripduration</th>\n",
       "      <th>starttime</th>\n",
       "      <th>stoptime</th>\n",
       "      <th>start station id</th>\n",
       "      <th>start station name</th>\n",
       "      <th>start station latitude</th>\n",
       "      <th>start station longitude</th>\n",
       "      <th>end station id</th>\n",
       "      <th>end station name</th>\n",
       "      <th>end station latitude</th>\n",
       "      <th>end station longitude</th>\n",
       "      <th>bikeid</th>\n",
       "      <th>usertype</th>\n",
       "      <th>birth year</th>\n",
       "      <th>gender</th>\n",
       "      <th>age</th>\n",
       "    </tr>\n",
       "  </thead>\n",
       "  <tbody>\n",
       "    <tr>\n",
       "      <th>618549</th>\n",
       "      <td>402</td>\n",
       "      <td>2017-09-12 00:00:04</td>\n",
       "      <td>2017-09-12 00:06:47</td>\n",
       "      <td>360</td>\n",
       "      <td>William St &amp; Pine St</td>\n",
       "      <td>40.707179</td>\n",
       "      <td>-74.008873</td>\n",
       "      <td>276</td>\n",
       "      <td>Duane St &amp; Greenwich St</td>\n",
       "      <td>40.717488</td>\n",
       "      <td>-74.010455</td>\n",
       "      <td>17308</td>\n",
       "      <td>Subscriber</td>\n",
       "      <td>1998.0</td>\n",
       "      <td>1</td>\n",
       "      <td>23.0</td>\n",
       "    </tr>\n",
       "    <tr>\n",
       "      <th>618550</th>\n",
       "      <td>654</td>\n",
       "      <td>2017-09-12 00:00:25</td>\n",
       "      <td>2017-09-12 00:11:20</td>\n",
       "      <td>312</td>\n",
       "      <td>Allen St &amp; Stanton St</td>\n",
       "      <td>40.722055</td>\n",
       "      <td>-73.989111</td>\n",
       "      <td>195</td>\n",
       "      <td>Liberty St &amp; Broadway</td>\n",
       "      <td>40.709056</td>\n",
       "      <td>-74.010434</td>\n",
       "      <td>28527</td>\n",
       "      <td>Subscriber</td>\n",
       "      <td>1989.0</td>\n",
       "      <td>1</td>\n",
       "      <td>32.0</td>\n",
       "    </tr>\n",
       "    <tr>\n",
       "      <th>618551</th>\n",
       "      <td>999</td>\n",
       "      <td>2017-09-12 00:00:28</td>\n",
       "      <td>2017-09-12 00:17:08</td>\n",
       "      <td>3383</td>\n",
       "      <td>Cathedral Pkwy &amp; Broadway</td>\n",
       "      <td>40.804213</td>\n",
       "      <td>-73.966991</td>\n",
       "      <td>3172</td>\n",
       "      <td>W 74 St &amp; Columbus Ave</td>\n",
       "      <td>40.778567</td>\n",
       "      <td>-73.977550</td>\n",
       "      <td>14731</td>\n",
       "      <td>Subscriber</td>\n",
       "      <td>1995.0</td>\n",
       "      <td>2</td>\n",
       "      <td>26.0</td>\n",
       "    </tr>\n",
       "    <tr>\n",
       "      <th>618552</th>\n",
       "      <td>338</td>\n",
       "      <td>2017-09-12 00:00:37</td>\n",
       "      <td>2017-09-12 00:06:16</td>\n",
       "      <td>415</td>\n",
       "      <td>Pearl St &amp; Hanover Square</td>\n",
       "      <td>40.704718</td>\n",
       "      <td>-74.009260</td>\n",
       "      <td>82</td>\n",
       "      <td>St James Pl &amp; Pearl St</td>\n",
       "      <td>40.711174</td>\n",
       "      <td>-74.000165</td>\n",
       "      <td>25492</td>\n",
       "      <td>Subscriber</td>\n",
       "      <td>1987.0</td>\n",
       "      <td>1</td>\n",
       "      <td>34.0</td>\n",
       "    </tr>\n",
       "    <tr>\n",
       "      <th>618553</th>\n",
       "      <td>1077</td>\n",
       "      <td>2017-09-12 00:00:46</td>\n",
       "      <td>2017-09-12 00:18:44</td>\n",
       "      <td>3156</td>\n",
       "      <td>E 72 St &amp; York Ave</td>\n",
       "      <td>40.766638</td>\n",
       "      <td>-73.953483</td>\n",
       "      <td>450</td>\n",
       "      <td>W 49 St &amp; 8 Ave</td>\n",
       "      <td>40.762272</td>\n",
       "      <td>-73.987882</td>\n",
       "      <td>20968</td>\n",
       "      <td>Subscriber</td>\n",
       "      <td>1991.0</td>\n",
       "      <td>1</td>\n",
       "      <td>30.0</td>\n",
       "    </tr>\n",
       "  </tbody>\n",
       "</table>\n",
       "</div>"
      ],
      "text/plain": [
       "        tripduration           starttime             stoptime  \\\n",
       "618549           402 2017-09-12 00:00:04  2017-09-12 00:06:47   \n",
       "618550           654 2017-09-12 00:00:25  2017-09-12 00:11:20   \n",
       "618551           999 2017-09-12 00:00:28  2017-09-12 00:17:08   \n",
       "618552           338 2017-09-12 00:00:37  2017-09-12 00:06:16   \n",
       "618553          1077 2017-09-12 00:00:46  2017-09-12 00:18:44   \n",
       "\n",
       "        start station id         start station name  start station latitude  \\\n",
       "618549               360       William St & Pine St               40.707179   \n",
       "618550               312      Allen St & Stanton St               40.722055   \n",
       "618551              3383  Cathedral Pkwy & Broadway               40.804213   \n",
       "618552               415  Pearl St & Hanover Square               40.704718   \n",
       "618553              3156         E 72 St & York Ave               40.766638   \n",
       "\n",
       "        start station longitude  end station id         end station name  \\\n",
       "618549               -74.008873             276  Duane St & Greenwich St   \n",
       "618550               -73.989111             195    Liberty St & Broadway   \n",
       "618551               -73.966991            3172   W 74 St & Columbus Ave   \n",
       "618552               -74.009260              82   St James Pl & Pearl St   \n",
       "618553               -73.953483             450          W 49 St & 8 Ave   \n",
       "\n",
       "        end station latitude  end station longitude  bikeid    usertype  \\\n",
       "618549             40.717488             -74.010455   17308  Subscriber   \n",
       "618550             40.709056             -74.010434   28527  Subscriber   \n",
       "618551             40.778567             -73.977550   14731  Subscriber   \n",
       "618552             40.711174             -74.000165   25492  Subscriber   \n",
       "618553             40.762272             -73.987882   20968  Subscriber   \n",
       "\n",
       "        birth year  gender   age  \n",
       "618549      1998.0       1  23.0  \n",
       "618550      1989.0       1  32.0  \n",
       "618551      1995.0       2  26.0  \n",
       "618552      1987.0       1  34.0  \n",
       "618553      1991.0       1  30.0  "
      ]
     },
     "execution_count": 25,
     "metadata": {},
     "output_type": "execute_result"
    }
   ],
   "source": [
    "#slicing data on the day most rides taken on (Sep 12th)\n",
    "sep_12 = data[(data['starttime']>='2017-09-12 00:00:00') & (data['starttime'] <= '2017-09-12 23:59:59')]\n",
    "sep_12.head()"
   ]
  },
  {
   "cell_type": "code",
   "execution_count": 26,
   "metadata": {},
   "outputs": [
    {
     "data": {
      "text/html": [
       "<div>\n",
       "<style scoped>\n",
       "    .dataframe tbody tr th:only-of-type {\n",
       "        vertical-align: middle;\n",
       "    }\n",
       "\n",
       "    .dataframe tbody tr th {\n",
       "        vertical-align: top;\n",
       "    }\n",
       "\n",
       "    .dataframe thead th {\n",
       "        text-align: right;\n",
       "    }\n",
       "</style>\n",
       "<table border=\"1\" class=\"dataframe\">\n",
       "  <thead>\n",
       "    <tr style=\"text-align: right;\">\n",
       "      <th></th>\n",
       "      <th>starttime</th>\n",
       "      <th>count</th>\n",
       "    </tr>\n",
       "  </thead>\n",
       "  <tbody>\n",
       "    <tr>\n",
       "      <th>18</th>\n",
       "      <td>2017-09-12 18:00:00</td>\n",
       "      <td>8364</td>\n",
       "    </tr>\n",
       "    <tr>\n",
       "      <th>17</th>\n",
       "      <td>2017-09-12 17:00:00</td>\n",
       "      <td>8101</td>\n",
       "    </tr>\n",
       "    <tr>\n",
       "      <th>8</th>\n",
       "      <td>2017-09-12 08:00:00</td>\n",
       "      <td>7627</td>\n",
       "    </tr>\n",
       "    <tr>\n",
       "      <th>19</th>\n",
       "      <td>2017-09-12 19:00:00</td>\n",
       "      <td>5414</td>\n",
       "    </tr>\n",
       "    <tr>\n",
       "      <th>9</th>\n",
       "      <td>2017-09-12 09:00:00</td>\n",
       "      <td>4882</td>\n",
       "    </tr>\n",
       "  </tbody>\n",
       "</table>\n",
       "</div>"
      ],
      "text/plain": [
       "             starttime  count\n",
       "18 2017-09-12 18:00:00   8364\n",
       "17 2017-09-12 17:00:00   8101\n",
       "8  2017-09-12 08:00:00   7627\n",
       "19 2017-09-12 19:00:00   5414\n",
       "9  2017-09-12 09:00:00   4882"
      ]
     },
     "execution_count": 26,
     "metadata": {},
     "output_type": "execute_result"
    }
   ],
   "source": [
    "#resample and group datetime by Time intervals (hour), then count each interval\n",
    "tuesday = sep_12.resample('H', on='starttime').starttime.count().reset_index(name='count')\n",
    "tuesday.sort_values(by='count', ascending=False).head()"
   ]
  },
  {
   "cell_type": "code",
   "execution_count": 27,
   "metadata": {},
   "outputs": [
    {
     "data": {
      "image/png": "[encoded data removed]",
      "text/plain": [
       "<Figure size 1080x360 with 1 Axes>"
      ]
     },
     "metadata": {
      "needs_background": "light"
     },
     "output_type": "display_data"
    }
   ],
   "source": [
    "#plot busy our on Sep 12th\n",
    "line = sns.relplot(data=tuesday, x='starttime', y='count', kind='line', height=3)\n",
    "line.fig.set_size_inches(15,5)\n",
    "plt.title('Busy Hour on Tuesday')\n",
    "plt.show()"
   ]
  },
  {
   "cell_type": "markdown",
   "metadata": {},
   "source": [
    ">Busy hour on Tuesday, Sep 12th (most rides taken on) is at 18.00 until 18.59"
   ]
  },
  {
   "cell_type": "markdown",
   "metadata": {},
   "source": [
    "## Is there correlation between age and trip duration?"
   ]
  },
  {
   "cell_type": "code",
   "execution_count": 28,
   "metadata": {},
   "outputs": [
    {
     "data": {
      "text/html": [
       "<div>\n",
       "<style scoped>\n",
       "    .dataframe tbody tr th:only-of-type {\n",
       "        vertical-align: middle;\n",
       "    }\n",
       "\n",
       "    .dataframe tbody tr th {\n",
       "        vertical-align: top;\n",
       "    }\n",
       "\n",
       "    .dataframe thead th {\n",
       "        text-align: right;\n",
       "    }\n",
       "</style>\n",
       "<table border=\"1\" class=\"dataframe\">\n",
       "  <thead>\n",
       "    <tr style=\"text-align: right;\">\n",
       "      <th></th>\n",
       "      <th>age</th>\n",
       "      <th>tripduration</th>\n",
       "    </tr>\n",
       "  </thead>\n",
       "  <tbody>\n",
       "    <tr>\n",
       "      <th>age</th>\n",
       "      <td>1.000000</td>\n",
       "      <td>-0.004168</td>\n",
       "    </tr>\n",
       "    <tr>\n",
       "      <th>tripduration</th>\n",
       "      <td>-0.004168</td>\n",
       "      <td>1.000000</td>\n",
       "    </tr>\n",
       "  </tbody>\n",
       "</table>\n",
       "</div>"
      ],
      "text/plain": [
       "                   age  tripduration\n",
       "age           1.000000     -0.004168\n",
       "tripduration -0.004168      1.000000"
      ]
     },
     "execution_count": 28,
     "metadata": {},
     "output_type": "execute_result"
    }
   ],
   "source": [
    "#Pearson correlation\n",
    "data[['age', 'tripduration']].corr()"
   ]
  },
  {
   "cell_type": "markdown",
   "metadata": {},
   "source": [
    "> There is no correlation between age and trip duration"
   ]
  },
  {
   "cell_type": "code",
   "execution_count": 32,
   "metadata": {},
   "outputs": [
    {
     "data": {
      "image/png": "[encoded data removed]",
      "text/plain": [
       "<Figure size 432x288 with 1 Axes>"
      ]
     },
     "metadata": {
      "needs_background": "light"
     },
     "output_type": "display_data"
    }
   ],
   "source": [
    "ax = sns.regplot(x='age', y='tripduration', data=data.sample(n=200, random_state=1))"
   ]
  },
  {
   "cell_type": "markdown",
   "metadata": {},
   "source": [
    "## What are the top 10 pair of stations that our riders use as a start & stopping point?"
   ]
  },
  {
   "cell_type": "code",
   "execution_count": 33,
   "metadata": {},
   "outputs": [
    {
     "data": {
      "text/html": [
       "<div>\n",
       "<style scoped>\n",
       "    .dataframe tbody tr th:only-of-type {\n",
       "        vertical-align: middle;\n",
       "    }\n",
       "\n",
       "    .dataframe tbody tr th {\n",
       "        vertical-align: top;\n",
       "    }\n",
       "\n",
       "    .dataframe thead th {\n",
       "        text-align: right;\n",
       "    }\n",
       "</style>\n",
       "<table border=\"1\" class=\"dataframe\">\n",
       "  <thead>\n",
       "    <tr style=\"text-align: right;\">\n",
       "      <th></th>\n",
       "      <th>start station name</th>\n",
       "      <th>end station name</th>\n",
       "      <th>number of trips</th>\n",
       "    </tr>\n",
       "  </thead>\n",
       "  <tbody>\n",
       "    <tr>\n",
       "      <th>38402</th>\n",
       "      <td>Central Park S &amp; 6 Ave</td>\n",
       "      <td>Central Park S &amp; 6 Ave</td>\n",
       "      <td>856</td>\n",
       "    </tr>\n",
       "    <tr>\n",
       "      <th>4818</th>\n",
       "      <td>12 Ave &amp; W 40 St</td>\n",
       "      <td>West St &amp; Chambers St</td>\n",
       "      <td>781</td>\n",
       "    </tr>\n",
       "    <tr>\n",
       "      <th>75000</th>\n",
       "      <td>E 7 St &amp; Avenue A</td>\n",
       "      <td>Cooper Square &amp; E 7 St</td>\n",
       "      <td>770</td>\n",
       "    </tr>\n",
       "    <tr>\n",
       "      <th>38354</th>\n",
       "      <td>Central Park S &amp; 6 Ave</td>\n",
       "      <td>5 Ave &amp; E 88 St</td>\n",
       "      <td>701</td>\n",
       "    </tr>\n",
       "    <tr>\n",
       "      <th>88775</th>\n",
       "      <td>Grand Army Plaza &amp; Central Park S</td>\n",
       "      <td>Grand Army Plaza &amp; Central Park S</td>\n",
       "      <td>578</td>\n",
       "    </tr>\n",
       "    <tr>\n",
       "      <th>161956</th>\n",
       "      <td>West St &amp; Chambers St</td>\n",
       "      <td>12 Ave &amp; W 40 St</td>\n",
       "      <td>562</td>\n",
       "    </tr>\n",
       "    <tr>\n",
       "      <th>127788</th>\n",
       "      <td>Soissons Landing</td>\n",
       "      <td>Soissons Landing</td>\n",
       "      <td>560</td>\n",
       "    </tr>\n",
       "    <tr>\n",
       "      <th>118800</th>\n",
       "      <td>Picnic Point</td>\n",
       "      <td>Soissons Landing</td>\n",
       "      <td>558</td>\n",
       "    </tr>\n",
       "    <tr>\n",
       "      <th>119159</th>\n",
       "      <td>Pier 40 - Hudson River Park</td>\n",
       "      <td>West St &amp; Chambers St</td>\n",
       "      <td>549</td>\n",
       "    </tr>\n",
       "    <tr>\n",
       "      <th>4696</th>\n",
       "      <td>12 Ave &amp; W 40 St</td>\n",
       "      <td>Pier 40 - Hudson River Park</td>\n",
       "      <td>538</td>\n",
       "    </tr>\n",
       "  </tbody>\n",
       "</table>\n",
       "</div>"
      ],
      "text/plain": [
       "                       start station name                   end station name  \\\n",
       "38402              Central Park S & 6 Ave             Central Park S & 6 Ave   \n",
       "4818                     12 Ave & W 40 St              West St & Chambers St   \n",
       "75000                   E 7 St & Avenue A             Cooper Square & E 7 St   \n",
       "38354              Central Park S & 6 Ave                    5 Ave & E 88 St   \n",
       "88775   Grand Army Plaza & Central Park S  Grand Army Plaza & Central Park S   \n",
       "161956              West St & Chambers St                   12 Ave & W 40 St   \n",
       "127788                   Soissons Landing                   Soissons Landing   \n",
       "118800                       Picnic Point                   Soissons Landing   \n",
       "119159        Pier 40 - Hudson River Park              West St & Chambers St   \n",
       "4696                     12 Ave & W 40 St        Pier 40 - Hudson River Park   \n",
       "\n",
       "        number of trips  \n",
       "38402               856  \n",
       "4818                781  \n",
       "75000               770  \n",
       "38354               701  \n",
       "88775               578  \n",
       "161956              562  \n",
       "127788              560  \n",
       "118800              558  \n",
       "119159              549  \n",
       "4696                538  "
      ]
     },
     "execution_count": 33,
     "metadata": {},
     "output_type": "execute_result"
    }
   ],
   "source": [
    "# group data by start & end station and aggregate with size, then sort descending by number of trips\n",
    "top10_pair = data.groupby(['start station name', 'end station name']).size().reset_index(name='number of trips')\n",
    "top10_pair = top10_pair.sort_values(by='number of trips', ascending=False).head(10)\n",
    "top10_pair"
   ]
  },
  {
   "cell_type": "code",
   "execution_count": 34,
   "metadata": {},
   "outputs": [
    {
     "data": {
      "text/html": [
       "<div>\n",
       "<style scoped>\n",
       "    .dataframe tbody tr th:only-of-type {\n",
       "        vertical-align: middle;\n",
       "    }\n",
       "\n",
       "    .dataframe tbody tr th {\n",
       "        vertical-align: top;\n",
       "    }\n",
       "\n",
       "    .dataframe thead th {\n",
       "        text-align: right;\n",
       "    }\n",
       "</style>\n",
       "<table border=\"1\" class=\"dataframe\">\n",
       "  <thead>\n",
       "    <tr style=\"text-align: right;\">\n",
       "      <th></th>\n",
       "      <th>start station name</th>\n",
       "      <th>end station name</th>\n",
       "      <th>number of trips</th>\n",
       "      <th>pair of stations</th>\n",
       "    </tr>\n",
       "  </thead>\n",
       "  <tbody>\n",
       "    <tr>\n",
       "      <th>38402</th>\n",
       "      <td>Central Park S &amp; 6 Ave</td>\n",
       "      <td>Central Park S &amp; 6 Ave</td>\n",
       "      <td>856</td>\n",
       "      <td>Central Park S &amp; 6 Ave - Central Park S &amp; 6 Ave</td>\n",
       "    </tr>\n",
       "    <tr>\n",
       "      <th>4818</th>\n",
       "      <td>12 Ave &amp; W 40 St</td>\n",
       "      <td>West St &amp; Chambers St</td>\n",
       "      <td>781</td>\n",
       "      <td>12 Ave &amp; W 40 St - West St &amp; Chambers St</td>\n",
       "    </tr>\n",
       "    <tr>\n",
       "      <th>75000</th>\n",
       "      <td>E 7 St &amp; Avenue A</td>\n",
       "      <td>Cooper Square &amp; E 7 St</td>\n",
       "      <td>770</td>\n",
       "      <td>E 7 St &amp; Avenue A - Cooper Square &amp; E 7 St</td>\n",
       "    </tr>\n",
       "    <tr>\n",
       "      <th>38354</th>\n",
       "      <td>Central Park S &amp; 6 Ave</td>\n",
       "      <td>5 Ave &amp; E 88 St</td>\n",
       "      <td>701</td>\n",
       "      <td>Central Park S &amp; 6 Ave - 5 Ave &amp; E 88 St</td>\n",
       "    </tr>\n",
       "    <tr>\n",
       "      <th>88775</th>\n",
       "      <td>Grand Army Plaza &amp; Central Park S</td>\n",
       "      <td>Grand Army Plaza &amp; Central Park S</td>\n",
       "      <td>578</td>\n",
       "      <td>Grand Army Plaza &amp; Central Park S - Grand Army...</td>\n",
       "    </tr>\n",
       "    <tr>\n",
       "      <th>161956</th>\n",
       "      <td>West St &amp; Chambers St</td>\n",
       "      <td>12 Ave &amp; W 40 St</td>\n",
       "      <td>562</td>\n",
       "      <td>West St &amp; Chambers St - 12 Ave &amp; W 40 St</td>\n",
       "    </tr>\n",
       "    <tr>\n",
       "      <th>127788</th>\n",
       "      <td>Soissons Landing</td>\n",
       "      <td>Soissons Landing</td>\n",
       "      <td>560</td>\n",
       "      <td>Soissons Landing - Soissons Landing</td>\n",
       "    </tr>\n",
       "    <tr>\n",
       "      <th>118800</th>\n",
       "      <td>Picnic Point</td>\n",
       "      <td>Soissons Landing</td>\n",
       "      <td>558</td>\n",
       "      <td>Picnic Point - Soissons Landing</td>\n",
       "    </tr>\n",
       "    <tr>\n",
       "      <th>119159</th>\n",
       "      <td>Pier 40 - Hudson River Park</td>\n",
       "      <td>West St &amp; Chambers St</td>\n",
       "      <td>549</td>\n",
       "      <td>Pier 40 - Hudson River Park - West St &amp; Chambe...</td>\n",
       "    </tr>\n",
       "    <tr>\n",
       "      <th>4696</th>\n",
       "      <td>12 Ave &amp; W 40 St</td>\n",
       "      <td>Pier 40 - Hudson River Park</td>\n",
       "      <td>538</td>\n",
       "      <td>12 Ave &amp; W 40 St - Pier 40 - Hudson River Park</td>\n",
       "    </tr>\n",
       "  </tbody>\n",
       "</table>\n",
       "</div>"
      ],
      "text/plain": [
       "                       start station name                   end station name  \\\n",
       "38402              Central Park S & 6 Ave             Central Park S & 6 Ave   \n",
       "4818                     12 Ave & W 40 St              West St & Chambers St   \n",
       "75000                   E 7 St & Avenue A             Cooper Square & E 7 St   \n",
       "38354              Central Park S & 6 Ave                    5 Ave & E 88 St   \n",
       "88775   Grand Army Plaza & Central Park S  Grand Army Plaza & Central Park S   \n",
       "161956              West St & Chambers St                   12 Ave & W 40 St   \n",
       "127788                   Soissons Landing                   Soissons Landing   \n",
       "118800                       Picnic Point                   Soissons Landing   \n",
       "119159        Pier 40 - Hudson River Park              West St & Chambers St   \n",
       "4696                     12 Ave & W 40 St        Pier 40 - Hudson River Park   \n",
       "\n",
       "        number of trips                                   pair of stations  \n",
       "38402               856    Central Park S & 6 Ave - Central Park S & 6 Ave  \n",
       "4818                781           12 Ave & W 40 St - West St & Chambers St  \n",
       "75000               770         E 7 St & Avenue A - Cooper Square & E 7 St  \n",
       "38354               701           Central Park S & 6 Ave - 5 Ave & E 88 St  \n",
       "88775               578  Grand Army Plaza & Central Park S - Grand Army...  \n",
       "161956              562           West St & Chambers St - 12 Ave & W 40 St  \n",
       "127788              560                Soissons Landing - Soissons Landing  \n",
       "118800              558                    Picnic Point - Soissons Landing  \n",
       "119159              549  Pier 40 - Hudson River Park - West St & Chambe...  \n",
       "4696                538     12 Ave & W 40 St - Pier 40 - Hudson River Park  "
      ]
     },
     "execution_count": 34,
     "metadata": {},
     "output_type": "execute_result"
    }
   ],
   "source": [
    "#add a new column for pair of stations\n",
    "top10_pair['pair of stations'] = top10_pair['start station name'] + ' - ' + top10_pair['end station name']\n",
    "top10_pair"
   ]
  },
  {
   "cell_type": "code",
   "execution_count": 35,
   "metadata": {},
   "outputs": [
    {
     "data": {
      "image/png": "[encoded data removed]",
      "text/plain": [
       "<Figure size 432x288 with 1 Axes>"
      ]
     },
     "metadata": {
      "needs_background": "light"
     },
     "output_type": "display_data"
    }
   ],
   "source": [
    "#sort ascending number of trips\n",
    "result = top10_pair.sort_values(by='number of trips', ascending=True)\n",
    "\n",
    "#plot using horizontal barplot\n",
    "plt.barh(result['pair of stations'], result['number of trips'], align='center')\n",
    "plt.title('Top 10 Pair of Stations')\n",
    "plt.show()"
   ]
  },
  {
   "cell_type": "markdown",
   "metadata": {},
   "source": [
    "## Come up with your own question on the Citibike data usage and formulate a hypothesis"
   ]
  },
  {
   "cell_type": "markdown",
   "metadata": {},
   "source": [
    "### Example:\n",
    "### \"Women are less likely than men to choose biking for commuting.\"\n",
    ">\n",
    ">Null Hypothesis: \n",
    "\n",
    ">The proportion of men biking on weekends is the same or higher than the proportion of women biking on weekends\n",
    "\n"
   ]
  },
  {
   "cell_type": "markdown",
   "metadata": {},
   "source": [
    "### \"The age of users is not more than 33 years old.\"\n",
    "\n",
    "Null Hypothesis: People who ride citibikes are over 33 years old (μ > 33)\n",
    "\n",
    "Alternative Hypothesis: People who ride citibikes are the same or lower than 33 years old (μ <= 33)"
   ]
  },
  {
   "cell_type": "markdown",
   "metadata": {},
   "source": [
    "## Work with your dataset and show your findings to help answer your question"
   ]
  },
  {
   "cell_type": "code",
   "execution_count": 36,
   "metadata": {},
   "outputs": [
    {
     "name": "stdout",
     "output_type": "stream",
     "text": [
      "The average age of the user is  41.465493855611356\n",
      "The standard deviation of user age is  11.713266523832322\n"
     ]
    }
   ],
   "source": [
    "# calculate mean from the data\n",
    "mean_age = data['age'].mean()\n",
    "print('The average age of the user is ', mean_age)\n",
    "\n",
    "# calculate standard deviation from the data\n",
    "std_age = data['age'].std()\n",
    "print('The standard deviation of user age is ', std_age)"
   ]
  },
  {
   "cell_type": "code",
   "execution_count": 37,
   "metadata": {},
   "outputs": [
    {
     "data": {
      "text/plain": [
       "[34.0, 41.0, 53.0, 45.0, 39.0, 43.0, 23.0, 42.0, 59.0, 29.0]"
      ]
     },
     "execution_count": 37,
     "metadata": {},
     "output_type": "execute_result"
    }
   ],
   "source": [
    "# random sample with n=11\n",
    "list = data['age'].sample(n=10, random_state=4).to_list()\n",
    "list"
   ]
  },
  {
   "cell_type": "code",
   "execution_count": 38,
   "metadata": {},
   "outputs": [
    {
     "name": "stdout",
     "output_type": "stream",
     "text": [
      "p-values:  0.044831599105008\n",
      "Reject the Null Hypothesis\n"
     ]
    }
   ],
   "source": [
    "# Statistics Test - t test\n",
    "from scipy.stats import ttest_1samp, ttest_ind\n",
    "tset, pval = ttest_1samp(list, 33)\n",
    "\n",
    "print('p-values: ', pval)\n",
    "if pval < 0.05: #alpha value is 0.05 or 5%\n",
    "    print('Reject the Null Hypothesis')\n",
    "else:\n",
    "    print('Fail to reject the Null Hypothesis')"
   ]
  },
  {
   "cell_type": "markdown",
   "metadata": {},
   "source": [
    ">From the results above, rejecting the null hypothesis means that the assumption that \"the age of users is not more than 33 years old\" is correct."
   ]
  },
  {
   "cell_type": "markdown",
   "metadata": {},
   "source": [
    "# Submit Instructions\n",
    "Rename this notebook to `mod2_<first_name>_<last_name>.ipynb` and push this to your branch in module-2 repository\n",
    "\n",
    "```\n",
    "git checkout -b tanyani\n",
    "git add mod2_tanya_nabila.ipynb\n",
    "git commit -m 'submit mod2 assignment for Tanya Nabila'\n",
    "git push\n",
    "```"
   ]
  }
 ],
 "metadata": {
  "interpreter": {
   "hash": "52b78d8e2db875985b812709016d1a544e51f9f88c2ad8d2c099fce058451922"
  },
  "kernelspec": {
   "display_name": "Python 3",
   "language": "python",
   "name": "python3"
  },
  "language_info": {
   "codemirror_mode": {
    "name": "ipython",
    "version": 3
   },
   "file_extension": ".py",
   "mimetype": "text/x-python",
   "name": "python",
   "nbconvert_exporter": "python",
   "pygments_lexer": "ipython3",
   "version": "3.8.8"
  }
 },
 "nbformat": 4,
 "nbformat_minor": 4
}
